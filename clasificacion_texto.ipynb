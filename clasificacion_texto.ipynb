{
 "cells": [
  {
   "cell_type": "markdown",
   "metadata": {},
   "source": [
    "# **CLASIFICACIÓN DE TEXTO**\n",
    "# **PROCESAMIENTO DE LENGUAJE NATURAL**\n",
    "# **Sebastián Carrero Cardona**"
   ]
  },
  {
   "cell_type": "markdown",
   "metadata": {},
   "source": [
    "El objetivo de este ejercicio es realizar una clasificación de texto en función de categorías predefinidas. La idea es que el algoritmo pueda asignar cada oración a la categoría que mejor le corresponda utilizando un modelo de espacio vectorial. Este modelo medirá la similitud entre cada oración calculando la distancia coseno entre los vectores de palabras en cada oración."
   ]
  },
  {
   "cell_type": "markdown",
   "metadata": {},
   "source": [
    "## **Categoría 1: Deportes**"
   ]
  },
  {
   "cell_type": "code",
   "execution_count": 1,
   "metadata": {},
   "outputs": [],
   "source": [
    "c1_dep = 'El fútbol es un deporte de equipo jugado entre dos conjuntos de once jugadores cada uno, mientras los árbitros se ocupan de que las normas se cumplan correctamente.'\n",
    "c2_dep = 'Como un deporte formal, la natación tiene competencias locales, nacionales e internacionales.'"
   ]
  },
  {
   "cell_type": "markdown",
   "metadata": {},
   "source": [
    "## **Categoría 2: Trabajos**"
   ]
  },
  {
   "cell_type": "code",
   "execution_count": 2,
   "metadata": {},
   "outputs": [],
   "source": [
    "c3_trab = 'Los científicos de datos son una nueva estirpe de expertos en datos analíticos que poseen habilidades técnicas para resolver problemas complejos – y la curiosidad de explorar qué problemas necesitan resolverse.'\n",
    "c4_trab = 'Los machine learning engineers (ingenieros de aprendizaje automático) trabajan con algoritmos, datos e inteligencia artificial (IA).'"
   ]
  },
  {
   "cell_type": "markdown",
   "metadata": {},
   "source": [
    "## **Categoría 3: Animales**"
   ]
  },
  {
   "cell_type": "code",
   "execution_count": 3,
   "metadata": {},
   "outputs": [],
   "source": [
    "c5_anim = 'El perro es un animal mamífero y cuadrúpedo que fue domesticado hace unos 10.000 años y que, actualmente, convive con el hombre como una mascota. Su nombre científico es Canis lupus familiaris.'\n",
    "c6_anim = 'El gato es un animal doméstico que convive con el ser humano desde hace cerca de 9500 años. Pese a que pueden encontrarse en los hogares como mascotas, los gatos son depredadores y pueden cazar distintas clases de presas.'"
   ]
  },
  {
   "cell_type": "markdown",
   "metadata": {},
   "source": [
    "## **Importación de librerías**"
   ]
  },
  {
   "cell_type": "code",
   "execution_count": 4,
   "metadata": {},
   "outputs": [
    {
     "name": "stderr",
     "output_type": "stream",
     "text": [
      "c:\\Users\\Sebastián Carrero\\AppData\\Local\\Programs\\Python\\Python310\\lib\\site-packages\\numpy\\_distributor_init.py:30: UserWarning: loaded more than 1 DLL from .libs:\n",
      "c:\\Users\\Sebastián Carrero\\AppData\\Local\\Programs\\Python\\Python310\\lib\\site-packages\\numpy\\.libs\\libopenblas.FB5AE2TYXYH2IJRDKGDGQ3XBKLKTF43H.gfortran-win_amd64.dll\n",
      "c:\\Users\\Sebastián Carrero\\AppData\\Local\\Programs\\Python\\Python310\\lib\\site-packages\\numpy\\.libs\\libopenblas64__v0.3.23-246-g3d31191b-gcc_10_3_0.dll\n",
      "  warnings.warn(\"loaded more than 1 DLL from .libs:\"\n",
      "[nltk_data] Downloading package stopwords to C:\\Users\\Sebastián\n",
      "[nltk_data]     Carrero\\AppData\\Roaming\\nltk_data...\n",
      "[nltk_data]   Package stopwords is already up-to-date!\n",
      "[nltk_data] Downloading package punkt to C:\\Users\\Sebastián\n",
      "[nltk_data]     Carrero\\AppData\\Roaming\\nltk_data...\n",
      "[nltk_data]   Package punkt is already up-to-date!\n"
     ]
    },
    {
     "data": {
      "text/plain": [
       "True"
      ]
     },
     "execution_count": 4,
     "metadata": {},
     "output_type": "execute_result"
    }
   ],
   "source": [
    "import nltk\n",
    "import numpy as np\n",
    "import matplotlib.pyplot as plt \n",
    "import unicodedata\n",
    "from nltk.tokenize import sent_tokenize, word_tokenize\n",
    "from nltk.corpus import stopwords\n",
    "from nltk import FreqDist\n",
    "from nltk.stem import SnowballStemmer\n",
    "import unicodedata\n",
    "import pandas as pd\n",
    "from sklearn.feature_extraction.text import TfidfVectorizer\n",
    "from sklearn.metrics.pairwise import cosine_similarity\n",
    "import re\n",
    "nltk.download(\"stopwords\")\n",
    "nltk.download('punkt')"
   ]
  },
  {
   "cell_type": "markdown",
   "metadata": {},
   "source": [
    "## **Preprocesamiento de texto:**"
   ]
  },
  {
   "cell_type": "code",
   "execution_count": 5,
   "metadata": {},
   "outputs": [],
   "source": [
    "# Función para realizar el preprocesamiento\n",
    "def preprocess(text):\n",
    "    # Normalización: Quitar guiones, convertir a minúsculas, quitar acentos\n",
    "    text = text.replace('-', ' ').lower()\n",
    "    text = ''.join((c for c in unicodedata.normalize('NFD', text) if unicodedata.category(c) != 'Mn'))\n",
    "    \n",
    "    # Tokenización y eliminación de stopwords, puntos y comas\n",
    "    tokens = nltk.word_tokenize(text)\n",
    "    tokens = [word for word in tokens if word.isalnum() and word not in stopwords.words('spanish')]\n",
    "    \n",
    "    return ' '.join(tokens)\n"
   ]
  },
  {
   "cell_type": "code",
   "execution_count": 6,
   "metadata": {},
   "outputs": [],
   "source": [
    "# Separación en Entrenamiento y Test\n",
    "train_texts = [c1_dep, c3_trab, c5_anim]\n",
    "test_texts = [c2_dep, c4_trab, c6_anim]"
   ]
  },
  {
   "cell_type": "code",
   "execution_count": 7,
   "metadata": {},
   "outputs": [],
   "source": [
    "#Aplicamos función de preprocesamiento\n",
    "preprocessed_train_texts = [preprocess(text) for text in train_texts]\n",
    "preprocessed_test_texts = [preprocess(text) for text in test_texts]"
   ]
  },
  {
   "cell_type": "markdown",
   "metadata": {},
   "source": [
    "## **Creación del modelo de espacio vectorial (VSM)**"
   ]
  },
  {
   "cell_type": "code",
   "execution_count": 8,
   "metadata": {},
   "outputs": [],
   "source": [
    "# Creación del modelo TF-IDF\n",
    "vectorizer = TfidfVectorizer()\n",
    "tfidf_matrix_train = vectorizer.fit_transform(preprocessed_train_texts)\n",
    "tfidf_matrix_test = vectorizer.transform(preprocessed_test_texts)\n",
    "\n",
    "# Calcular la similitud coseno entre documentos de prueba y entrenamiento\n",
    "cosine_similarities = cosine_similarity(tfidf_matrix_test, tfidf_matrix_train)"
   ]
  },
  {
   "cell_type": "markdown",
   "metadata": {},
   "source": [
    "## **Tabla comparativa y conclusiones**"
   ]
  },
  {
   "cell_type": "code",
   "execution_count": 9,
   "metadata": {},
   "outputs": [
    {
     "data": {
      "text/html": [
       "<div>\n",
       "<style scoped>\n",
       "    .dataframe tbody tr th:only-of-type {\n",
       "        vertical-align: middle;\n",
       "    }\n",
       "\n",
       "    .dataframe tbody tr th {\n",
       "        vertical-align: top;\n",
       "    }\n",
       "\n",
       "    .dataframe thead th {\n",
       "        text-align: right;\n",
       "    }\n",
       "</style>\n",
       "<table border=\"1\" class=\"dataframe\">\n",
       "  <thead>\n",
       "    <tr style=\"text-align: right;\">\n",
       "      <th></th>\n",
       "      <th>c1_dep</th>\n",
       "      <th>c3_trab</th>\n",
       "      <th>c5_anim</th>\n",
       "    </tr>\n",
       "  </thead>\n",
       "  <tbody>\n",
       "    <tr>\n",
       "      <th>c2_dep</th>\n",
       "      <td>0.258199</td>\n",
       "      <td>0.000000</td>\n",
       "      <td>0.0</td>\n",
       "    </tr>\n",
       "    <tr>\n",
       "      <th>c4_trab</th>\n",
       "      <td>0.000000</td>\n",
       "      <td>0.426401</td>\n",
       "      <td>0.0</td>\n",
       "    </tr>\n",
       "    <tr>\n",
       "      <th>c6_anim</th>\n",
       "      <td>0.000000</td>\n",
       "      <td>0.000000</td>\n",
       "      <td>0.5</td>\n",
       "    </tr>\n",
       "  </tbody>\n",
       "</table>\n",
       "</div>"
      ],
      "text/plain": [
       "           c1_dep   c3_trab  c5_anim\n",
       "c2_dep   0.258199  0.000000      0.0\n",
       "c4_trab  0.000000  0.426401      0.0\n",
       "c6_anim  0.000000  0.000000      0.5"
      ]
     },
     "execution_count": 9,
     "metadata": {},
     "output_type": "execute_result"
    }
   ],
   "source": [
    "# Crear una tabla comparativa\n",
    "df = pd.DataFrame(cosine_similarities, columns=[\"c1_dep\", \"c3_trab\", \"c5_anim\"])\n",
    "df.index = [\"c2_dep\", \"c4_trab\", \"c6_anim\"]\n",
    "\n",
    "# Mostrar la tabla comparativa\n",
    "df"
   ]
  },
  {
   "cell_type": "markdown",
   "metadata": {},
   "source": [
    "Podemos observar que todos los textos de prueba tuvieron mayor similitud con la categoría correcta:\n",
    "\n",
    "- Texto **c2_dep** se clasifico correctamente como categoría **deporte** con una coincidencia del 25% mientras que en las demás no obtuvo coincidencia.\n",
    "\n",
    "- Texto **c4_trab** se clasifico correctamente como categoría **trabajo** con una coincidencia del 42% mientras que en las demás no obtuvo coincidencia.\n",
    "\n",
    "- Texto **c6_anim** se clasifico correctamente como categoría **animal** con una coincidencia del 50%% mientras que en las demás no obtuvo coincidencia."
   ]
  }
 ],
 "metadata": {
  "kernelspec": {
   "display_name": "Python 3",
   "language": "python",
   "name": "python3"
  },
  "language_info": {
   "codemirror_mode": {
    "name": "ipython",
    "version": 3
   },
   "file_extension": ".py",
   "mimetype": "text/x-python",
   "name": "python",
   "nbconvert_exporter": "python",
   "pygments_lexer": "ipython3",
   "version": "3.10.4"
  },
  "orig_nbformat": 4
 },
 "nbformat": 4,
 "nbformat_minor": 2
}
